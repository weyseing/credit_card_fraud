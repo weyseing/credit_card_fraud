{
  "cells": [
    {
      "cell_type": "markdown",
      "source": [
        "## Library"
      ],
      "metadata": {
        "nteract": {
          "transient": {
            "deleting": false
          }
        }
      }
    },
    {
      "cell_type": "code",
      "source": [
        "import pandas as pd\n",
        "import numpy as np\n",
        "import os\n",
        "from sklearn.model_selection import train_test_split\n",
        "from sklearn.linear_model import LogisticRegression\n",
        "from sklearn.tree import DecisionTreeClassifier\n",
        "from sklearn.ensemble import RandomForestClassifier\n",
        "from sklearn.metrics import accuracy_score, confusion_matrix, classification_report"
      ],
      "outputs": [],
      "execution_count": 1,
      "metadata": {
        "gather": {
          "logged": 1733031217923
        }
      }
    },
    {
      "cell_type": "markdown",
      "source": [
        "## Dataset"
      ],
      "metadata": {
        "nteract": {
          "transient": {
            "deleting": false
          }
        }
      }
    },
    {
      "cell_type": "code",
      "source": [
        "df = pd.read_csv(os.getcwd() + '/dataset/creditcard.csv')\n",
        "df.tail(3)"
      ],
      "outputs": [
        {
          "output_type": "execute_result",
          "execution_count": 2,
          "data": {
            "text/plain": "            Time        V1        V2        V3        V4        V5        V6  \\\n284804  172788.0  1.919565 -0.301254 -3.249640 -0.557828  2.630515  3.031260   \n284805  172788.0 -0.240440  0.530483  0.702510  0.689799 -0.377961  0.623708   \n284806  172792.0 -0.533413 -0.189733  0.703337 -0.506271 -0.012546 -0.649617   \n\n              V7        V8        V9  ...       V21       V22       V23  \\\n284804 -0.296827  0.708417  0.432454  ...  0.232045  0.578229 -0.037501   \n284805 -0.686180  0.679145  0.392087  ...  0.265245  0.800049 -0.163298   \n284806  1.577006 -0.414650  0.486180  ...  0.261057  0.643078  0.376777   \n\n             V24       V25       V26       V27       V28  Amount  Class  \n284804  0.640134  0.265745 -0.087371  0.004455 -0.026561   67.88      0  \n284805  0.123205 -0.569159  0.546668  0.108821  0.104533   10.00      0  \n284806  0.008797 -0.473649 -0.818267 -0.002415  0.013649  217.00      0  \n\n[3 rows x 31 columns]",
            "text/html": "<div>\n<style scoped>\n    .dataframe tbody tr th:only-of-type {\n        vertical-align: middle;\n    }\n\n    .dataframe tbody tr th {\n        vertical-align: top;\n    }\n\n    .dataframe thead th {\n        text-align: right;\n    }\n</style>\n<table border=\"1\" class=\"dataframe\">\n  <thead>\n    <tr style=\"text-align: right;\">\n      <th></th>\n      <th>Time</th>\n      <th>V1</th>\n      <th>V2</th>\n      <th>V3</th>\n      <th>V4</th>\n      <th>V5</th>\n      <th>V6</th>\n      <th>V7</th>\n      <th>V8</th>\n      <th>V9</th>\n      <th>...</th>\n      <th>V21</th>\n      <th>V22</th>\n      <th>V23</th>\n      <th>V24</th>\n      <th>V25</th>\n      <th>V26</th>\n      <th>V27</th>\n      <th>V28</th>\n      <th>Amount</th>\n      <th>Class</th>\n    </tr>\n  </thead>\n  <tbody>\n    <tr>\n      <th>284804</th>\n      <td>172788.0</td>\n      <td>1.919565</td>\n      <td>-0.301254</td>\n      <td>-3.249640</td>\n      <td>-0.557828</td>\n      <td>2.630515</td>\n      <td>3.031260</td>\n      <td>-0.296827</td>\n      <td>0.708417</td>\n      <td>0.432454</td>\n      <td>...</td>\n      <td>0.232045</td>\n      <td>0.578229</td>\n      <td>-0.037501</td>\n      <td>0.640134</td>\n      <td>0.265745</td>\n      <td>-0.087371</td>\n      <td>0.004455</td>\n      <td>-0.026561</td>\n      <td>67.88</td>\n      <td>0</td>\n    </tr>\n    <tr>\n      <th>284805</th>\n      <td>172788.0</td>\n      <td>-0.240440</td>\n      <td>0.530483</td>\n      <td>0.702510</td>\n      <td>0.689799</td>\n      <td>-0.377961</td>\n      <td>0.623708</td>\n      <td>-0.686180</td>\n      <td>0.679145</td>\n      <td>0.392087</td>\n      <td>...</td>\n      <td>0.265245</td>\n      <td>0.800049</td>\n      <td>-0.163298</td>\n      <td>0.123205</td>\n      <td>-0.569159</td>\n      <td>0.546668</td>\n      <td>0.108821</td>\n      <td>0.104533</td>\n      <td>10.00</td>\n      <td>0</td>\n    </tr>\n    <tr>\n      <th>284806</th>\n      <td>172792.0</td>\n      <td>-0.533413</td>\n      <td>-0.189733</td>\n      <td>0.703337</td>\n      <td>-0.506271</td>\n      <td>-0.012546</td>\n      <td>-0.649617</td>\n      <td>1.577006</td>\n      <td>-0.414650</td>\n      <td>0.486180</td>\n      <td>...</td>\n      <td>0.261057</td>\n      <td>0.643078</td>\n      <td>0.376777</td>\n      <td>0.008797</td>\n      <td>-0.473649</td>\n      <td>-0.818267</td>\n      <td>-0.002415</td>\n      <td>0.013649</td>\n      <td>217.00</td>\n      <td>0</td>\n    </tr>\n  </tbody>\n</table>\n<p>3 rows × 31 columns</p>\n</div>"
          },
          "metadata": {}
        }
      ],
      "execution_count": 2,
      "metadata": {
        "jupyter": {
          "source_hidden": false,
          "outputs_hidden": false
        },
        "nteract": {
          "transient": {
            "deleting": false
          }
        },
        "gather": {
          "logged": 1733031221813
        }
      }
    },
    {
      "cell_type": "code",
      "source": [
        "X = df.drop('Class', axis=1)\n",
        "y = df['Class']    "
      ],
      "outputs": [],
      "execution_count": 3,
      "metadata": {
        "jupyter": {
          "source_hidden": false,
          "outputs_hidden": false
        },
        "nteract": {
          "transient": {
            "deleting": false
          }
        },
        "gather": {
          "logged": 1733031221952
        }
      }
    },
    {
      "cell_type": "code",
      "source": [
        "X_train, X_test, y_train, y_test = train_test_split(X, y, test_size=0.2, random_state=42)"
      ],
      "outputs": [],
      "execution_count": 4,
      "metadata": {
        "jupyter": {
          "source_hidden": false,
          "outputs_hidden": false
        },
        "nteract": {
          "transient": {
            "deleting": false
          }
        },
        "gather": {
          "logged": 1733031222097
        }
      }
    },
    {
      "cell_type": "markdown",
      "source": [
        "## Modeling"
      ],
      "metadata": {
        "nteract": {
          "transient": {
            "deleting": false
          }
        }
      }
    },
    {
      "cell_type": "code",
      "source": [
        "def evaluate_model(model, X_train, X_test, y_train, y_test):\n",
        "    # fit & predict\n",
        "    model.fit(X_train, y_train)\n",
        "    y_pred = model.predict(X_test)\n",
        "    \n",
        "    # accuracy, confusion metric, classification report\n",
        "    accuracy = accuracy_score(y_test, y_pred)\n",
        "    conf_matrix = confusion_matrix(y_test, y_pred)\n",
        "    class_report = classification_report(y_test, y_pred)\n",
        "    \n",
        "    return accuracy, conf_matrix, class_report"
      ],
      "outputs": [],
      "execution_count": 5,
      "metadata": {
        "jupyter": {
          "source_hidden": false,
          "outputs_hidden": false
        },
        "nteract": {
          "transient": {
            "deleting": false
          }
        },
        "gather": {
          "logged": 1733031222232
        }
      }
    },
    {
      "cell_type": "code",
      "source": [
        "# logistic regression model\n",
        "def logistic_regression(X_train, X_test, y_train, y_test):\n",
        "    model = LogisticRegression(max_iter=500, solver='liblinear')\n",
        "    return evaluate_model(model, X_train, X_test, y_train, y_test)\n",
        "\n",
        "# decision tree model\n",
        "def decision_tree(X_train, X_test, y_train, y_test):\n",
        "    model = DecisionTreeClassifier()\n",
        "    return evaluate_model(model, X_train, X_test, y_train, y_test)\n",
        "\n",
        "# random forest model\n",
        "def random_forest(X_train, X_test, y_train, y_test):\n",
        "    model = RandomForestClassifier()\n",
        "    return evaluate_model(model, X_train, X_test, y_train, y_test)"
      ],
      "outputs": [],
      "execution_count": 6,
      "metadata": {
        "jupyter": {
          "source_hidden": false,
          "outputs_hidden": false
        },
        "nteract": {
          "transient": {
            "deleting": false
          }
        },
        "gather": {
          "logged": 1733031222367
        }
      }
    },
    {
      "cell_type": "markdown",
      "source": [
        "## Logistic Regression"
      ],
      "metadata": {
        "nteract": {
          "transient": {
            "deleting": false
          }
        }
      }
    },
    {
      "cell_type": "code",
      "source": [
        "logistic_accuracy, logistic_conf_matrix, logistic_class_report = logistic_regression(X_train, X_test, y_train, y_test)\n",
        "print(\"Logistic Regression Results:\")\n",
        "print(f\"Accuracy: {logistic_accuracy}\")\n",
        "print(f\"Confusion Matrix:\\n{logistic_conf_matrix}\")\n",
        "print(f\"Classification Report:\\n{logistic_class_report}\")"
      ],
      "outputs": [
        {
          "output_type": "stream",
          "name": "stdout",
          "text": "Logistic Regression Results:\nAccuracy: 0.9989993328885924\nConfusion Matrix:\n[[56853    11]\n [   46    52]]\nClassification Report:\n              precision    recall  f1-score   support\n\n           0       1.00      1.00      1.00     56864\n           1       0.83      0.53      0.65        98\n\n    accuracy                           1.00     56962\n   macro avg       0.91      0.77      0.82     56962\nweighted avg       1.00      1.00      1.00     56962\n\n"
        }
      ],
      "execution_count": 7,
      "metadata": {
        "jupyter": {
          "source_hidden": false,
          "outputs_hidden": false
        },
        "nteract": {
          "transient": {
            "deleting": false
          }
        },
        "gather": {
          "logged": 1733031227775
        }
      }
    },
    {
      "cell_type": "markdown",
      "source": [
        "## Decision Tree"
      ],
      "metadata": {
        "nteract": {
          "transient": {
            "deleting": false
          }
        }
      }
    },
    {
      "cell_type": "code",
      "source": [
        "tree_accuracy, tree_conf_matrix, tree_class_report = decision_tree(X_train, X_test, y_train, y_test)\n",
        "print(\"\\nDecision Tree Results:\")\n",
        "print(f\"Accuracy: {tree_accuracy}\")\n",
        "print(f\"Confusion Matrix:\\n{tree_conf_matrix}\")\n",
        "print(f\"Classification Report:\\n{tree_class_report}\")"
      ],
      "outputs": [
        {
          "output_type": "stream",
          "name": "stdout",
          "text": "\nDecision Tree Results:\nAccuracy: 0.9991397773954567\nConfusion Matrix:\n[[56835    29]\n [   20    78]]\nClassification Report:\n              precision    recall  f1-score   support\n\n           0       1.00      1.00      1.00     56864\n           1       0.73      0.80      0.76        98\n\n    accuracy                           1.00     56962\n   macro avg       0.86      0.90      0.88     56962\nweighted avg       1.00      1.00      1.00     56962\n\n"
        }
      ],
      "execution_count": 8,
      "metadata": {
        "jupyter": {
          "source_hidden": false,
          "outputs_hidden": false
        },
        "nteract": {
          "transient": {
            "deleting": false
          }
        },
        "gather": {
          "logged": 1733031252852
        }
      }
    },
    {
      "cell_type": "markdown",
      "source": [
        "## Random Forest"
      ],
      "metadata": {
        "nteract": {
          "transient": {
            "deleting": false
          }
        }
      }
    },
    {
      "cell_type": "code",
      "source": [
        "forest_accuracy, forest_conf_matrix, forest_class_report = random_forest(X_train, X_test, y_train, y_test)\n",
        "print(\"\\nRandom Forest Results:\")\n",
        "print(f\"Accuracy: {forest_accuracy}\")\n",
        "print(f\"Confusion Matrix:\\n{forest_conf_matrix}\")\n",
        "print(f\"Classification Report:\\n{forest_class_report}\")"
      ],
      "outputs": [
        {
          "output_type": "stream",
          "name": "stdout",
          "text": "\nRandom Forest Results:\nAccuracy: 0.9995962220427653\nConfusion Matrix:\n[[56863     1]\n [   22    76]]\nClassification Report:\n              precision    recall  f1-score   support\n\n           0       1.00      1.00      1.00     56864\n           1       0.99      0.78      0.87        98\n\n    accuracy                           1.00     56962\n   macro avg       0.99      0.89      0.93     56962\nweighted avg       1.00      1.00      1.00     56962\n\n"
        }
      ],
      "execution_count": 9,
      "metadata": {
        "jupyter": {
          "source_hidden": false,
          "outputs_hidden": false
        },
        "nteract": {
          "transient": {
            "deleting": false
          }
        },
        "gather": {
          "logged": 1733031545830
        }
      }
    },
    {
      "cell_type": "code",
      "source": [],
      "outputs": [],
      "execution_count": null,
      "metadata": {
        "jupyter": {
          "source_hidden": false,
          "outputs_hidden": false
        },
        "nteract": {
          "transient": {
            "deleting": false
          }
        }
      }
    }
  ],
  "metadata": {
    "kernelspec": {
      "name": "python310-sdkv2",
      "language": "python",
      "display_name": "Python 3.10 - SDK v2"
    },
    "language_info": {
      "name": "python",
      "version": "3.10.14",
      "mimetype": "text/x-python",
      "codemirror_mode": {
        "name": "ipython",
        "version": 3
      },
      "pygments_lexer": "ipython3",
      "nbconvert_exporter": "python",
      "file_extension": ".py"
    },
    "microsoft": {
      "ms_spell_check": {
        "ms_spell_check_language": "en"
      },
      "host": {
        "AzureML": {
          "notebookHasBeenCompleted": true
        }
      }
    },
    "kernel_info": {
      "name": "python310-sdkv2"
    },
    "nteract": {
      "version": "nteract-front-end@1.0.0"
    }
  },
  "nbformat": 4,
  "nbformat_minor": 2
}